{
  "nbformat": 4,
  "nbformat_minor": 0,
  "metadata": {
    "kernelspec": {
      "display_name": "Python 3",
      "language": "python",
      "name": "python3"
    },
    "language_info": {
      "codemirror_mode": {
        "name": "ipython",
        "version": 3
      },
      "file_extension": ".py",
      "mimetype": "text/x-python",
      "name": "python",
      "nbconvert_exporter": "python",
      "pygments_lexer": "ipython3",
      "version": "3.8.3"
    },
    "colab": {
      "name": "data-exploring.ipynb",
      "provenance": [],
      "collapsed_sections": []
    }
  },
  "cells": [
    {
      "cell_type": "code",
      "metadata": {
        "colab": {
          "base_uri": "https://localhost:8080/"
        },
        "id": "JFcO_tui-bmq",
        "outputId": "e0b13c9f-44c2-4dfe-a91d-3f46def96e6d"
      },
      "source": [
        "from google.colab import drive\n",
        "drive.mount('/content/drive')"
      ],
      "execution_count": 1,
      "outputs": [
        {
          "output_type": "stream",
          "text": [
            "Mounted at /content/drive\n"
          ],
          "name": "stdout"
        }
      ]
    },
    {
      "cell_type": "code",
      "metadata": {
        "colab": {
          "base_uri": "https://localhost:8080/"
        },
        "id": "7QzedyK4-aTj",
        "outputId": "be152a4f-5b10-492b-8fbd-3c97daf03189"
      },
      "source": [
        "!mkdir data\n",
        "!cd data && wget \"http://164.68.116.174:5000/download/files/isep/a3/deep-learning/respiratory-sound/extracted_features.npy\"\n",
        "!cd data && wget \"http://164.68.116.174:5000/download/files/isep/a3/deep-learning/respiratory-sound/labels.npy\"\n",
        "!cd data && wget \"http://164.68.116.174:5000/download/files/isep/a3/deep-learning/respiratory-sound/features_stretched.npy\"\n",
        "!cd data && wget \"http://164.68.116.174:5000/download/files/isep/a3/deep-learning/respiratory-sound/labels_stretched.npy\""
      ],
      "execution_count": 13,
      "outputs": [
        {
          "output_type": "stream",
          "text": [
            "--2020-12-21 22:47:17--  http://164.68.116.174:5000/download/files/isep/a3/deep-learning/respiratory-sound/extracted_features.npy\n",
            "Connecting to 164.68.116.174:5000... connected.\n",
            "HTTP request sent, awaiting response... 200 OK\n",
            "Length: 126886528 (121M) [application/octet-stream]\n",
            "Saving to: ‘extracted_features.npy’\n",
            "\n",
            "extracted_features. 100%[===================>] 121.01M  9.73MB/s    in 15s     \n",
            "\n",
            "2020-12-21 22:47:33 (8.06 MB/s) - ‘extracted_features.npy’ saved [126886528/126886528]\n",
            "\n",
            "--2020-12-21 22:47:33--  http://164.68.116.174:5000/download/files/isep/a3/deep-learning/respiratory-sound/labels.npy\n",
            "Connecting to 164.68.116.174:5000... connected.\n",
            "HTTP request sent, awaiting response... 200 OK\n",
            "Length: 51648 (50K) [application/octet-stream]\n",
            "Saving to: ‘labels.npy’\n",
            "\n",
            "labels.npy          100%[===================>]  50.44K  92.9KB/s    in 0.5s    \n",
            "\n",
            "2020-12-21 22:47:34 (92.9 KB/s) - ‘labels.npy’ saved [51648/51648]\n",
            "\n",
            "--2020-12-21 22:47:34--  http://164.68.116.174:5000/download/files/isep/a3/deep-learning/respiratory-sound/features_stretched.npy\n",
            "Connecting to 164.68.116.174:5000... connected.\n",
            "HTTP request sent, awaiting response... 200 OK\n",
            "Length: 507545728 (484M) [application/octet-stream]\n",
            "Saving to: ‘features_stretched.npy’\n",
            "\n",
            "features_stretched. 100%[===================>] 484.03M  9.55MB/s    in 54s     \n",
            "\n",
            "2020-12-21 22:48:28 (8.99 MB/s) - ‘features_stretched.npy’ saved [507545728/507545728]\n",
            "\n",
            "--2020-12-21 22:48:28--  http://164.68.116.174:5000/download/files/isep/a3/deep-learning/respiratory-sound/labels_stretched.npy\n",
            "Connecting to 164.68.116.174:5000... connected.\n",
            "HTTP request sent, awaiting response... 200 OK\n",
            "Length: 206208 (201K) [application/octet-stream]\n",
            "Saving to: ‘labels_stretched.npy’\n",
            "\n",
            "labels_stretched.np 100%[===================>] 201.38K   225KB/s    in 0.9s    \n",
            "\n",
            "2020-12-21 22:48:31 (225 KB/s) - ‘labels_stretched.npy’ saved [206208/206208]\n",
            "\n"
          ],
          "name": "stdout"
        }
      ]
    },
    {
      "cell_type": "code",
      "metadata": {
        "id": "xFD6Lx4T9YEb"
      },
      "source": [
        "import numpy as np\n",
        "import pandas as pd\n",
        "import matplotlib.pyplot as plt\n",
        "import librosa.display"
      ],
      "execution_count": null,
      "outputs": []
    },
    {
      "cell_type": "code",
      "metadata": {
        "id": "i3_n5Vgw9YEi"
      },
      "source": [
        "features = np.load('./data/extracted_features.npy')\n",
        "labels = np.load('./data/labels.npy')\n",
        "\n",
        "features_stretched = np.load('./data/features_stretched.npy')\n",
        "labels_stretched = np.load('./data/labels_stretched.npy')\n",
        "features_stretched = np.delete(features_stretched, np.where((labels_stretched == 'COPD'))[0], axis=0) \n",
        "labels_stretched = np.delete(labels_stretched, np.where((labels_stretched == 'COPD'))[0], axis=0) \n",
        "\n",
        "# features = np.concatenate((features, features_stretched), axis=0) -- y a un pb de dimensions revoir le script du time stretching\n",
        "tot_labels = np.concatenate((labels,labels_stretched), axis=0)"
      ],
      "execution_count": null,
      "outputs": []
    },
    {
      "cell_type": "code",
      "metadata": {
        "colab": {
          "base_uri": "https://localhost:8080/"
        },
        "id": "_xnnj8bC9YEl",
        "outputId": "1c2284bc-2bd1-4cbd-e7f7-498dbc881a36"
      },
      "source": [
        "pd.Series(labels).value_counts()"
      ],
      "execution_count": null,
      "outputs": [
        {
          "output_type": "execute_result",
          "data": {
            "text/plain": [
              "COPD              793\n",
              "Pneumonia          37\n",
              "Healthy            35\n",
              "URTI               23\n",
              "Bronchiectasis     16\n",
              "Bronchiolitis      13\n",
              "LRTI                2\n",
              "Asthma              1\n",
              "dtype: int64"
            ]
          },
          "metadata": {
            "tags": []
          },
          "execution_count": 16
        }
      ]
    },
    {
      "cell_type": "code",
      "metadata": {
        "colab": {
          "base_uri": "https://localhost:8080/"
        },
        "id": "40e3HPF3BqZG",
        "outputId": "ac5ee6cc-4138-4b35-a560-8253ee6fc8f3"
      },
      "source": [
        "pd.Series(tot_labels).value_counts()"
      ],
      "execution_count": null,
      "outputs": [
        {
          "output_type": "execute_result",
          "data": {
            "text/plain": [
              "COPD              793\n",
              "Pneumonia         185\n",
              "Healthy           175\n",
              "URTI              115\n",
              "Bronchiectasis     80\n",
              "Bronchiolitis      65\n",
              "LRTI               10\n",
              "Asthma              5\n",
              "dtype: int64"
            ]
          },
          "metadata": {
            "tags": []
          },
          "execution_count": 17
        }
      ]
    },
    {
      "cell_type": "code",
      "metadata": {
        "id": "XHooQc8V9YEn"
      },
      "source": [
        "features1 = np.delete(features, np.where((labels == 'Asthma') | (labels == 'LRTI'))[0], axis=0) \n",
        "labels1 = np.delete(labels, np.where((labels == 'Asthma') | (labels == 'LRTI'))[0], axis=0)"
      ],
      "execution_count": null,
      "outputs": []
    },
    {
      "cell_type": "code",
      "metadata": {
        "id": "UtwWyiVS9YEn",
        "outputId": "87c43551-0210-41e0-e69d-9f7dcdfbcda7"
      },
      "source": [
        "features1.shape"
      ],
      "execution_count": null,
      "outputs": [
        {
          "output_type": "execute_result",
          "data": {
            "text/plain": [
              "(917, 40, 862)"
            ]
          },
          "metadata": {
            "tags": []
          },
          "execution_count": 10
        }
      ]
    },
    {
      "cell_type": "code",
      "metadata": {
        "id": "MQrdlczc9YEo",
        "outputId": "732959fd-58e7-4545-afb3-9517004c2a34"
      },
      "source": [
        "pd.Series(labels1).value_counts()"
      ],
      "execution_count": null,
      "outputs": [
        {
          "output_type": "execute_result",
          "data": {
            "text/plain": [
              "COPD              793\n",
              "Pneumonia          37\n",
              "Healthy            35\n",
              "URTI               23\n",
              "Bronchiectasis     16\n",
              "Bronchiolitis      13\n",
              "dtype: int64"
            ]
          },
          "metadata": {
            "tags": []
          },
          "execution_count": 15
        }
      ]
    },
    {
      "cell_type": "code",
      "metadata": {
        "id": "P0DwwDry9YEo",
        "outputId": "73671f82-af50-4cf1-c291-3dae862b1b6a"
      },
      "source": [
        "plt.figure(figsize=(10, 4))\n",
        "librosa.display.specshow(features[7], x_axis='time')\n",
        "plt.colorbar()\n",
        "plt.title('MFCC ' + labels[7])\n",
        "plt.tight_layout()\n",
        "plt.show()"
      ],
      "execution_count": null,
      "outputs": [
        {
          "output_type": "display_data",
          "data": {
            "image/png": "[encoded data removed]",
            "text/plain": [
              "<Figure size 720x288 with 2 Axes>"
            ]
          },
          "metadata": {
            "tags": [],
            "needs_background": "light"
          }
        }
      ]
    }
  ]
}